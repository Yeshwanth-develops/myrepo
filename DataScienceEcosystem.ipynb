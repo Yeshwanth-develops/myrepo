{
 "cells": [
  {
   "cell_type": "markdown",
   "id": "fb4095c6-7811-4e0a-b84a-567329dc5883",
   "metadata": {},
   "source": [
    "# H1:Data Science Tools and Ecosystem"
   ]
  },
  {
   "cell_type": "markdown",
   "id": "43c32484-842b-4475-a981-a261e7b3b262",
   "metadata": {},
   "source": [
    "# In this notebook, Data Science Tools and Ecosystem are summarized."
   ]
  },
  {
   "cell_type": "markdown",
   "id": "f9df0bf3-5700-40e1-b2d6-cfbc92b73478",
   "metadata": {},
   "source": [
    "# Some of the popular languages that Data Scientists use are:\n",
    "1. Python\n",
    "2. SQL\n",
    "3. R\n",
    "4. Java"
   ]
  },
  {
   "cell_type": "markdown",
   "id": "d8c070f1-8e78-4557-accd-6b0f747dca54",
   "metadata": {},
   "source": [
    "# Some of the commonly used libraries used by Data Scientists include:\n",
    "\n",
    "1. NumPy\n",
    "2. Pandas\n",
    "3. Matplotlib\n",
    "4. TensorFlow\n"
   ]
  },
  {
   "cell_type": "markdown",
   "id": "ce3fae05-0abd-45b3-9d5f-bdbc195c63b7",
   "metadata": {},
   "source": [
    "# Data Science Tools\n",
    "\n",
    "\n",
    "|Data Science Tools | \n",
    "| ------ | \n",
    "|Apache Spark|\n",
    "|BigML| \n",
    "|SAS| "
   ]
  },
  {
   "cell_type": "markdown",
   "id": "ccaa2028-2a4f-4076-aa95-613843fc6130",
   "metadata": {},
   "source": [
    "### Below are a few examples of evaluating arithmetic expressions in Python"
   ]
  },
  {
   "cell_type": "code",
   "execution_count": 1,
   "id": "4d7d21dc-6c5d-41f3-b206-2c044b6dbd93",
   "metadata": {
    "tags": []
   },
   "outputs": [
    {
     "data": {
      "text/plain": [
       "17"
      ]
     },
     "execution_count": 1,
     "metadata": {},
     "output_type": "execute_result"
    }
   ],
   "source": [
    "#  This a simple arithmetic expression to mutiply then add integers\n",
    "(3*4)+5"
   ]
  },
  {
   "cell_type": "code",
   "execution_count": 2,
   "id": "8362ba8e-f6a0-410d-8a83-4104e7f8d53d",
   "metadata": {
    "tags": []
   },
   "outputs": [
    {
     "data": {
      "text/plain": [
       "3.3333333333333335"
      ]
     },
     "execution_count": 2,
     "metadata": {},
     "output_type": "execute_result"
    }
   ],
   "source": [
    "# This will convert 200 minutes to hours by diving by 60\n",
    "200/60"
   ]
  },
  {
   "cell_type": "markdown",
   "id": "36745d01-9bb1-489b-ab9f-f148fbfe7794",
   "metadata": {},
   "source": [
    "# Objectives:\n",
    "* List popular languages for Data Science\n",
    "* List popular libraries used for Data Science\n",
    "* List some Data Science tools\n",
    "* List some arithmetic operations"
   ]
  },
  {
   "cell_type": "markdown",
   "id": "aeea725f-933a-499b-bd7c-d3014456439c",
   "metadata": {},
   "source": [
    "## Author\n",
    "Yeshwanth Sunkara"
   ]
  },
  {
   "cell_type": "code",
   "execution_count": null,
   "id": "4f5f0aad-1420-4c4b-a8c0-00901301138d",
   "metadata": {},
   "outputs": [],
   "source": []
  }
 ],
 "metadata": {
  "kernelspec": {
   "display_name": "Python",
   "language": "python",
   "name": "conda-env-python-py"
  },
  "language_info": {
   "codemirror_mode": {
    "name": "ipython",
    "version": 3
   },
   "file_extension": ".py",
   "mimetype": "text/x-python",
   "name": "python",
   "nbconvert_exporter": "python",
   "pygments_lexer": "ipython3",
   "version": "3.7.12"
  }
 },
 "nbformat": 4,
 "nbformat_minor": 5
}
